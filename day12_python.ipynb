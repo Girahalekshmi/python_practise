{
 "cells": [
  {
   "cell_type": "markdown",
   "id": "e63c9544",
   "metadata": {},
   "source": [
    "# intersection "
   ]
  },
  {
   "cell_type": "code",
   "execution_count": 5,
   "id": "7d63daf3",
   "metadata": {},
   "outputs": [
    {
     "data": {
      "text/plain": [
       "{3}"
      ]
     },
     "execution_count": 5,
     "metadata": {},
     "output_type": "execute_result"
    }
   ],
   "source": [
    "X=[1,3,4,5]\n",
    "Y=[3,9,8]\n",
    "set(X).intersection (set(Y))\n"
   ]
  },
  {
   "cell_type": "code",
   "execution_count": null,
   "id": "e09b875e",
   "metadata": {},
   "outputs": [],
   "source": []
  }
 ],
 "metadata": {
  "kernelspec": {
   "display_name": "Python 3 (ipykernel)",
   "language": "python",
   "name": "python3"
  },
  "language_info": {
   "codemirror_mode": {
    "name": "ipython",
    "version": 3
   },
   "file_extension": ".py",
   "mimetype": "text/x-python",
   "name": "python",
   "nbconvert_exporter": "python",
   "pygments_lexer": "ipython3",
   "version": "3.11.5"
  }
 },
 "nbformat": 4,
 "nbformat_minor": 5
}
