{
 "cells": [
  {
   "cell_type": "code",
   "execution_count": 4,
   "id": "0b0c4d45",
   "metadata": {},
   "outputs": [
    {
     "name": "stdout",
     "output_type": "stream",
     "text": [
      "True\n"
     ]
    }
   ],
   "source": [
    "str1 =\"listen\"\n",
    "str2 =\"silent\"\n",
    "str1=list(str1.upper())\n",
    "str2=list(str2.upper())\n",
    "str1.sort(),str2.sort()\n",
    "\n",
    "if (str1==str2):\n",
    "    print(\"True\")\n",
    "    \n",
    "else:\n",
    "    print(\"False\")\n",
    "    \n",
    "    "
   ]
  },
  {
   "cell_type": "code",
   "execution_count": null,
   "id": "a7d0cda2",
   "metadata": {},
   "outputs": [],
   "source": []
  }
 ],
 "metadata": {
  "kernelspec": {
   "display_name": "Python 3 (ipykernel)",
   "language": "python",
   "name": "python3"
  },
  "language_info": {
   "codemirror_mode": {
    "name": "ipython",
    "version": 3
   },
   "file_extension": ".py",
   "mimetype": "text/x-python",
   "name": "python",
   "nbconvert_exporter": "python",
   "pygments_lexer": "ipython3",
   "version": "3.11.5"
  }
 },
 "nbformat": 4,
 "nbformat_minor": 5
}
