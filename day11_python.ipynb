{
 "cells": [
  {
   "cell_type": "code",
   "execution_count": 6,
   "id": "89f9c4c0",
   "metadata": {},
   "outputs": [
    {
     "name": "stdout",
     "output_type": "stream",
     "text": [
      "2\n",
      "14\n",
      "4\n"
     ]
    }
   ],
   "source": [
    "import re\n",
    "\n",
    "name = 'my roll number is 13'\n",
    "\n",
    "digitcount = re.sub(\"[^0-9]\",\"\",name)\n",
    "digitletter = re.sub(\"[^a-zA-Z]\",\"\",name)\n",
    "digitspace = re.findall(\"[ \\n]\",name) \n",
    "                    \n",
    "print(len(digitcount))\n",
    "print(len(digitletter))\n",
    "print(len(digitspace))"
   ]
  },
  {
   "cell_type": "code",
   "execution_count": null,
   "id": "37c5a59c",
   "metadata": {},
   "outputs": [],
   "source": []
  }
 ],
 "metadata": {
  "kernelspec": {
   "display_name": "Python 3 (ipykernel)",
   "language": "python",
   "name": "python3"
  },
  "language_info": {
   "codemirror_mode": {
    "name": "ipython",
    "version": 3
   },
   "file_extension": ".py",
   "mimetype": "text/x-python",
   "name": "python",
   "nbconvert_exporter": "python",
   "pygments_lexer": "ipython3",
   "version": "3.11.5"
  }
 },
 "nbformat": 4,
 "nbformat_minor": 5
}
